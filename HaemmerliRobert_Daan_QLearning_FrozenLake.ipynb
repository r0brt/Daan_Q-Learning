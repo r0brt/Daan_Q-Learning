{
  "nbformat": 4,
  "nbformat_minor": 0,
  "metadata": {
    "colab": {
      "name": "Untitled1.ipynb",
      "version": "0.3.2",
      "provenance": [],
      "collapsed_sections": [],
      "include_colab_link": true
    },
    "kernelspec": {
      "name": "python3",
      "display_name": "Python 3"
    }
  },
  "cells": [
    {
      "cell_type": "markdown",
      "metadata": {
        "id": "view-in-github",
        "colab_type": "text"
      },
      "source": [
        "<a href=\"https://colab.research.google.com/github/r0brt/Daan_Q-Learning/blob/master/HaemmerliRobert_Daan_QLearning_FrozenLake.ipynb\" target=\"_parent\"><img src=\"https://colab.research.google.com/assets/colab-badge.svg\" alt=\"Open In Colab\"/></a>"
      ]
    },
    {
      "cell_type": "markdown",
      "metadata": {
        "id": "N3TiwnMWHDE9",
        "colab_type": "text"
      },
      "source": [
        "# Frozen Lake\n",
        "![alt text](http://deeplizard.com/images/frozen%20lake%20winter.jpg)\n",
        "\n",
        "**Ausgangslage:**  \n",
        "Ein gefrorener See mit den Dimensionen 4x4, den es zu \"überqueren\" gilt.\n",
        "Der See ist nicht komplett gefroren, sondern hat einzelne Löcher (H), welche vermieden werden sollen.\n",
        "\n",
        " ![alt text](https://www.analyticsindiamag.com/wp-content/uploads/2018/03/Frozen-Lake.png) ![alt text](https://analyticsindiamag.com/wp-content/uploads/2018/03/description.png)\n",
        "\n",
        "  \n",
        "**mögliche Aktionen**  \n",
        "links  |  runter  |  rechts  |  rauf  \n",
        "(ABER: das Eis ist rutschig, der Agent bewegt sich nicht immer in die gewünschte Richtung: *is_slippery=True*)\n",
        "  \n",
        "  \n",
        "**Belohnungen**  \n",
        "bei Erfolg (G): +1  \n",
        "Ansonsten (F/H): 0"
      ]
    },
    {
      "cell_type": "markdown",
      "metadata": {
        "id": "eisSd85XHfyE",
        "colab_type": "text"
      },
      "source": [
        "### Setting up Frozen Lake\n"
      ]
    },
    {
      "cell_type": "markdown",
      "metadata": {
        "id": "J-DfGbl9Hooo",
        "colab_type": "text"
      },
      "source": [
        "#### Libraries"
      ]
    },
    {
      "cell_type": "code",
      "metadata": {
        "id": "9NL947AEHzUZ",
        "colab_type": "code",
        "colab": {}
      },
      "source": [
        "import numpy as np\n",
        "import gym\n",
        "import random\n",
        "import time\n",
        "from IPython.display import clear_output"
      ],
      "execution_count": 0,
      "outputs": []
    },
    {
      "cell_type": "markdown",
      "metadata": {
        "id": "M5lY4y65H0Ri",
        "colab_type": "text"
      },
      "source": [
        "#### Creating the environment\n",
        "\n",
        "Next, to create our environment, we just call gym.make() and pass a string of the name of the environment we want to set up. We'll be using the environment FrozenLake-v0. All the environments with their corresponding names you can use here are available on Gym’s website https://gym.openai.com/envs/#classic_control"
      ]
    },
    {
      "cell_type": "code",
      "metadata": {
        "id": "xwyW2PS3H9yK",
        "colab_type": "code",
        "colab": {
          "base_uri": "https://localhost:8080/",
          "height": 102
        },
        "outputId": "2dac647b-391c-44c1-d74b-7f076cbbf28e"
      },
      "source": [
        "env = gym.make(\"FrozenLake-v0\")\n",
        "env.render()"
      ],
      "execution_count": 13,
      "outputs": [
        {
          "output_type": "stream",
          "text": [
            "\n",
            "\u001b[41mS\u001b[0mFFF\n",
            "FHFH\n",
            "FFFH\n",
            "HFFG\n"
          ],
          "name": "stdout"
        }
      ]
    },
    {
      "cell_type": "markdown",
      "metadata": {
        "id": "7xwb1AcQIVX5",
        "colab_type": "text"
      },
      "source": [
        "#### Creating the Q-table\n",
        "\n",
        "We’re now going to construct our Q-table, and initialize all the Q-values to zero for each state-action pair.\n",
        "\n",
        "Remember, the number of rows in the table is equivalent to the size of the state space in the environment, and the number of columns is equivalent to the size of the action space. We can get this information using using env.observation_space.n and env.action_space.n, as shown below. We can then use this information to build the Q-table and fill it with zeros. \n"
      ]
    },
    {
      "cell_type": "code",
      "metadata": {
        "id": "rpeyDVGUIOVC",
        "colab_type": "code",
        "colab": {}
      },
      "source": [
        "action_space_size = env.action_space.n\n",
        "state_space_size = env.observation_space.n\n",
        "\n",
        "q_table = np.zeros((state_space_size, action_space_size))"
      ],
      "execution_count": 0,
      "outputs": []
    },
    {
      "cell_type": "code",
      "metadata": {
        "id": "AcjiQAIxIZzP",
        "colab_type": "code",
        "outputId": "0fa5b659-a9ab-4f49-f9c8-c869d2003c53",
        "colab": {
          "base_uri": "https://localhost:8080/",
          "height": 289
        }
      },
      "source": [
        "print(q_table)"
      ],
      "execution_count": 20,
      "outputs": [
        {
          "output_type": "stream",
          "text": [
            "[[0. 0. 0. 0.]\n",
            " [0. 0. 0. 0.]\n",
            " [0. 0. 0. 0.]\n",
            " [0. 0. 0. 0.]\n",
            " [0. 0. 0. 0.]\n",
            " [0. 0. 0. 0.]\n",
            " [0. 0. 0. 0.]\n",
            " [0. 0. 0. 0.]\n",
            " [0. 0. 0. 0.]\n",
            " [0. 0. 0. 0.]\n",
            " [0. 0. 0. 0.]\n",
            " [0. 0. 0. 0.]\n",
            " [0. 0. 0. 0.]\n",
            " [0. 0. 0. 0.]\n",
            " [0. 0. 0. 0.]\n",
            " [0. 0. 0. 0.]]\n"
          ],
          "name": "stdout"
        }
      ]
    },
    {
      "cell_type": "markdown",
      "metadata": {
        "id": "0WuwdPSKI_3x",
        "colab_type": "text"
      },
      "source": [
        "#### Initializing Q-learning parameters"
      ]
    },
    {
      "cell_type": "markdown",
      "metadata": {
        "id": "E0UaGhkPJOBr",
        "colab_type": "text"
      },
      "source": [
        "First, with **num_episodes**, we define the total number of episodes we want the agent to play during training. Then, with **max_steps_per_episode**, we define a maximum number of steps that our agent is allowed to take within a single episode. So, if by the one-hundredth step, the agent hasn’t reached the frisbee or fallen through a hole, then the episode will terminate with the agent receiving zero points.\n",
        "\n",
        "Next, we set our **learning_rate**, which is mathematically shown using the symbol α. Then, we also set our **discount_rate**, as well, which is represented with the symbol γ.\n",
        "\n",
        "Now, the last four parameters are all for related to the exploration-exploitation trade-off we talked about last time in regards to the epsilon-greedy policy. We’re initializing our **exploration_rate** to 1 and setting the **max_exploration_rate** to 1 and a **min_exploration_rate** to 0.01. The max and min are just bounds to how large or small our exploration rate can be.\n",
        "Remember, the exploration rate was represented with the symbol ϵ when we discussed it previously.\n",
        "\n",
        "Lastly, we set the **exploration_decay_rate** to 0.01 to determine the rate at which the exploration_rate will decay. "
      ]
    },
    {
      "cell_type": "code",
      "metadata": {
        "id": "rGloGWdLIhaP",
        "colab_type": "code",
        "colab": {}
      },
      "source": [
        "num_episodes = 10000\n",
        "max_steps_per_episode = 100\n",
        "\n",
        "learning_rate = 0.1\n",
        "discount_rate = 0.99\n",
        "\n",
        "exploration_rate = 1\n",
        "max_exploration_rate = 1\n",
        "min_exploration_rate = 0.01\n",
        "exploration_decay_rate = 0.001"
      ],
      "execution_count": 0,
      "outputs": []
    },
    {
      "cell_type": "markdown",
      "metadata": {
        "id": "rPaNjE4KJ7TN",
        "colab_type": "text"
      },
      "source": [
        "### Training Q-learning algorithm"
      ]
    },
    {
      "cell_type": "markdown",
      "metadata": {
        "id": "MD61fjNIN_B3",
        "colab_type": "text"
      },
      "source": [
        "`Update Q-table for Q(s,a)`:  \n",
        "The new Q-value for this state-action pair is a weighted sum of our old value and the “learned value.” So we have our new Q-value equal to the old Q-value times one minus the learning rate plus the learning rate times the “learned value,” which is the reward we just received from our last action plus the discounted estimate of the optimal future Q-value for the next state action pair."
      ]
    },
    {
      "cell_type": "code",
      "metadata": {
        "id": "CT6uVgcGJESR",
        "colab_type": "code",
        "outputId": "4cc3fb22-b353-48cc-ff85-15836006f7ca",
        "colab": {
          "base_uri": "https://localhost:8080/",
          "height": 612
        }
      },
      "source": [
        "# list to hold all of the rewards\n",
        "rewards_all_episodes = []\n",
        "nbr_success = 0\n",
        "\n",
        "# Q-learning algorithm\n",
        "for episode in range(num_episodes):\n",
        "    # initialize new episode params\n",
        "    state = env.reset()\n",
        "    done = False                 # keeps track of whether or not our episode is finished\n",
        "    rewards_current_episode = 0  # keep track of the rewards\n",
        "    \n",
        "    for step in range(max_steps_per_episode): \n",
        "        # Exploration-exploitation trade-off\n",
        "        exploration_rate_threshold = random.uniform(0, 1)\n",
        "        if exploration_rate_threshold > exploration_rate:  # exploit the environment and choose the action that has the highest Q-value\n",
        "            action = np.argmax(q_table[state,:]) \n",
        "        else:                                              # agent will explore the environment, and sample an action randomly\n",
        "            action = env.action_space.sample()\n",
        "            \n",
        "        # Take new action\n",
        "        new_state, reward, done, info = env.step(action)\n",
        "        \n",
        "        # Update Q-table for Q(s,a)\n",
        "        q_table[state, action] = q_table[state, action] * (1 - learning_rate) + learning_rate * (reward + discount_rate * np.max(q_table[new_state, :]))\n",
        "                \n",
        "        # Set new state\n",
        "        state = new_state\n",
        "        \n",
        "        # Add new reward   \n",
        "        rewards_current_episode += reward\n",
        "        if nbr_success == 0 and rewards_current_episode > 0:\n",
        "            nbr_success = nbr_success + 1\n",
        "            print(\"\\n*** Success \", nbr_success, \"***\")\n",
        "            print(\"Episode: \", episode)\n",
        "            print(\"Step: \", step)\n",
        "            print(\"Reward: \", reward)\n",
        "            print(\"Reward curr. Episode: \", rewards_current_episode)\n",
        "            print(q_table)\n",
        "            \n",
        "        if done == True: \n",
        "            break\n",
        "\n",
        "\n",
        "    # Exploration rate decay\n",
        "    # Exploration rate decreases or decays at a rate proportional to its current value\n",
        "    exploration_rate = min_exploration_rate + (max_exploration_rate - min_exploration_rate) * np.exp(-exploration_decay_rate*episode) \n",
        "    \n",
        "    # Add current episode reward to total rewards list\n",
        "    rewards_all_episodes.append(rewards_current_episode)\n",
        "\n",
        "    \n",
        "    \n",
        "# Calculate and print the average reward per thousand episodes\n",
        "rewards_per_thosand_episodes = np.split(np.array(rewards_all_episodes),num_episodes/1000)\n",
        "count = 1000\n",
        "\n",
        "print(\"\\n********Average reward per thousand episodes********\\n\")\n",
        "for r in rewards_per_thosand_episodes:\n",
        "    print(count, \": \", str(sum(r/1000)))\n",
        "    count += 1000"
      ],
      "execution_count": 23,
      "outputs": [
        {
          "output_type": "stream",
          "text": [
            "\n",
            "*** Success  1 ***\n",
            "Episode:  41\n",
            "Step:  8\n",
            "Reward:  1.0\n",
            "Reward curr. Episode:  1.0\n",
            "[[0.  0.  0.  0. ]\n",
            " [0.  0.  0.  0. ]\n",
            " [0.  0.  0.  0. ]\n",
            " [0.  0.  0.  0. ]\n",
            " [0.  0.  0.  0. ]\n",
            " [0.  0.  0.  0. ]\n",
            " [0.  0.  0.  0. ]\n",
            " [0.  0.  0.  0. ]\n",
            " [0.  0.  0.  0. ]\n",
            " [0.  0.  0.  0. ]\n",
            " [0.  0.  0.  0. ]\n",
            " [0.  0.  0.  0. ]\n",
            " [0.  0.  0.  0. ]\n",
            " [0.  0.  0.  0. ]\n",
            " [0.  0.1 0.  0. ]\n",
            " [0.  0.  0.  0. ]]\n",
            "\n",
            "********Average reward per thousand episodes********\n",
            "\n",
            "1000 :  0.046000000000000034\n",
            "2000 :  0.20900000000000016\n",
            "3000 :  0.3960000000000003\n",
            "4000 :  0.5450000000000004\n",
            "5000 :  0.6210000000000004\n",
            "6000 :  0.6640000000000005\n",
            "7000 :  0.6460000000000005\n",
            "8000 :  0.6590000000000005\n",
            "9000 :  0.7050000000000005\n",
            "10000 :  0.6810000000000005\n"
          ],
          "name": "stdout"
        }
      ]
    },
    {
      "cell_type": "code",
      "metadata": {
        "id": "bsKy33tGS0qT",
        "colab_type": "code",
        "outputId": "b0539ee4-4e34-42c8-801a-41514b794879",
        "colab": {
          "base_uri": "https://localhost:8080/",
          "height": 357
        }
      },
      "source": [
        "# Print updated Q-table\n",
        "print(\"\\n\\n******** Q-table after training (10'000 episodes) ********\\n\")\n",
        "print(q_table)"
      ],
      "execution_count": 24,
      "outputs": [
        {
          "output_type": "stream",
          "text": [
            "\n",
            "\n",
            "******** Q-table after training (10'000 episodes) ********\n",
            "\n",
            "[[0.50997946 0.4966136  0.49878094 0.49532026]\n",
            " [0.27384592 0.3808344  0.26419844 0.43415148]\n",
            " [0.38306658 0.27323237 0.25088774 0.24586175]\n",
            " [0.09470931 0.05914075 0.04501136 0.06261971]\n",
            " [0.53688988 0.36940758 0.31826316 0.41978232]\n",
            " [0.         0.         0.         0.        ]\n",
            " [0.32054728 0.12992356 0.21714304 0.09305219]\n",
            " [0.         0.         0.         0.        ]\n",
            " [0.32985344 0.38290721 0.35341727 0.57962875]\n",
            " [0.48301355 0.65443127 0.41008896 0.30256534]\n",
            " [0.56254638 0.42200073 0.41783667 0.38171221]\n",
            " [0.         0.         0.         0.        ]\n",
            " [0.         0.         0.         0.        ]\n",
            " [0.42509461 0.53037661 0.72644422 0.61615195]\n",
            " [0.7609492  0.85978589 0.78532778 0.78981493]\n",
            " [0.         0.         0.         0.        ]]\n"
          ],
          "name": "stdout"
        }
      ]
    },
    {
      "cell_type": "markdown",
      "metadata": {
        "id": "P4P7tZavXRIF",
        "colab_type": "text"
      },
      "source": [
        "### Watch the agent play the game"
      ]
    },
    {
      "cell_type": "code",
      "metadata": {
        "id": "ScGUuE87TLyI",
        "colab_type": "code",
        "outputId": "40272daf-5b5f-42a6-a6f4-d721c769fc52",
        "colab": {
          "base_uri": "https://localhost:8080/",
          "height": 119
        }
      },
      "source": [
        "# Watch our agent play Frozen Lake by playing the best action \n",
        "# from each state according to the Q-table\n",
        "\n",
        "for episode in range(2):\n",
        "    # initialize new episode params\n",
        "    state = env.reset()\n",
        "    done = False\n",
        "    print(\"*****EPISODE \", episode+1, \"*****\\n\\n\\n\\n\")\n",
        "    time.sleep(1)\n",
        "\n",
        "    for step in range(max_steps_per_episode):        \n",
        "        # Show current state of environment on screen    \n",
        "        clear_output(wait=True)\n",
        "        env.render()\n",
        "        time.sleep(0.3)\n",
        "        \n",
        "        # Choose action with highest Q-value for current state  \n",
        "        action = np.argmax(q_table[state,:])   \n",
        "        \n",
        "        # Take new action\n",
        "        new_state, reward, done, info = env.step(action)\n",
        "        \n",
        "        if done:\n",
        "            clear_output(wait=True)\n",
        "            env.render()\n",
        "            if reward == 1:\n",
        "                # Agent reached the goal and won episode\n",
        "                print(\"****You reached the goal!****\")\n",
        "                time.sleep(3)                \n",
        "            else:\n",
        "                # Agent stepped in a hole and lost episode      \n",
        "                print(\"****You fell through a hole!****\")\n",
        "                time.sleep(3)\n",
        "                clear_output(wait=True)\n",
        "            break\n",
        "            \n",
        "        # Set new state\n",
        "        state = new_state\n",
        "        \n",
        "env.close()"
      ],
      "execution_count": 26,
      "outputs": [
        {
          "output_type": "stream",
          "text": [
            "  (Down)\n",
            "SFFF\n",
            "FHFH\n",
            "FFFH\n",
            "HFF\u001b[41mG\u001b[0m\n",
            "****You reached the goal!****\n"
          ],
          "name": "stdout"
        }
      ]
    }
  ]
}