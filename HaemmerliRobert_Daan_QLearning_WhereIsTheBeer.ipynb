{
  "nbformat": 4,
  "nbformat_minor": 0,
  "metadata": {
    "colab": {
      "name": "Untitled2.ipynb",
      "version": "0.3.2",
      "provenance": [],
      "include_colab_link": true
    },
    "kernelspec": {
      "name": "python3",
      "display_name": "Python 3"
    }
  },
  "cells": [
    {
      "cell_type": "markdown",
      "metadata": {
        "id": "view-in-github",
        "colab_type": "text"
      },
      "source": [
        "<a href=\"https://colab.research.google.com/github/r0brt/Daan_Q-Learning/blob/master/HaemmerliRobert_Daan_QLearning_WhereIsTheBeer.ipynb\" target=\"_parent\"><img src=\"https://colab.research.google.com/assets/colab-badge.svg\" alt=\"Open In Colab\"/></a>"
      ]
    },
    {
      "cell_type": "code",
      "metadata": {
        "id": "LQwWjiON_4nc",
        "colab_type": "code",
        "colab": {}
      },
      "source": [
        "import random"
      ],
      "execution_count": 0,
      "outputs": []
    },
    {
      "cell_type": "markdown",
      "metadata": {
        "id": "2PT2PtMxEpgy",
        "colab_type": "text"
      },
      "source": [
        "![alt text](https://cdn-images-1.medium.com/max/1600/1*ZZRhGiCE6oOjvyCDj2nsPA.png)"
      ]
    },
    {
      "cell_type": "code",
      "metadata": {
        "id": "y8aSFsnG_S4i",
        "colab_type": "code",
        "colab": {}
      },
      "source": [
        "environment_matrix = [[None, 0],\n",
        "                  [-100, 0],\n",
        "                  [0, 0],\n",
        "                  [0, 0],\n",
        "                  [0, 0],\n",
        "                  [0, 100],\n",
        "                  [0, 0],\n",
        "                  [100, 0],\n",
        "                  [0, 0],\n",
        "                  [0, None]]"
      ],
      "execution_count": 0,
      "outputs": []
    },
    {
      "cell_type": "code",
      "metadata": {
        "id": "wnP4y5VC_Xmr",
        "colab_type": "code",
        "colab": {}
      },
      "source": [
        "q_matrix = [[0, 0],\n",
        "      [0, 0],\n",
        "      [0, 0],\n",
        "      [0, 0],\n",
        "      [0, 0],\n",
        "      [0, 0],\n",
        "      [0, 0],\n",
        "      [0, 0],\n",
        "      [0, 0],\n",
        "      [0, 0]]"
      ],
      "execution_count": 0,
      "outputs": []
    },
    {
      "cell_type": "code",
      "metadata": {
        "id": "_4GjKdWo_cox",
        "colab_type": "code",
        "colab": {}
      },
      "source": [
        "win_loss_states = [0,6]\n",
        "def getAllPossibleNextAction(cur_pos):\n",
        "    step_matrix = [x != None for x in environment_matrix[cur_pos]]\n",
        "    action = []\n",
        "    if(step_matrix[0]):\n",
        "        action.append(0)    \n",
        "    if(step_matrix[1]):\n",
        "        action.append(1)\n",
        "    return(action)\n",
        "def isGoalStateReached(cur_pos):\n",
        "    return (cur_pos in [6])\n",
        "def getNextState(cur_pos, action):\n",
        "    if (action == 0):\n",
        "        return cur_pos - 1\n",
        "    else:\n",
        "        return cur_pos + 1\n",
        "def isGameOver(cur_pos):\n",
        "    return cur_pos in win_loss_states"
      ],
      "execution_count": 0,
      "outputs": []
    },
    {
      "cell_type": "code",
      "metadata": {
        "id": "9EdMSNhK_fA5",
        "colab_type": "code",
        "colab": {}
      },
      "source": [
        "discount = 0.9\n",
        "learning_rate = 0.1\n",
        "for _ in range(1000):\n",
        "    # get starting place\n",
        "    cur_pos = random.choice([0,1,2,3,4,5,6,7,8,9])\n",
        "    # while goal state is not reached\n",
        "    while(not isGameOver(cur_pos)):\n",
        "        # get all possible next states from cur_step\n",
        "        possible_actions = getAllPossibleNextAction(cur_pos)\n",
        "        # select any one action randomly\n",
        "        action = random.choice(possible_actions)\n",
        "        # find the next state corresponding to the action selected\n",
        "        next_state = getNextState(cur_pos, action)\n",
        "        # update the q_matrix\n",
        "        q_matrix[cur_pos][action] = q_matrix[cur_pos][action] + learning_rate * (environment_matrix[cur_pos][action] + \n",
        "            discount * max(q_matrix[next_state]) - q_matrix[cur_pos][action])\n",
        "        # go to next state\n",
        "        cur_pos = next_state\n",
        "    # print status\n",
        "    print(\"Episode \", _ , \" done\")\n",
        "    if _ <= 5:\n",
        "        print('\\n'.join(['\\t'.join([str(cell) for cell in row]) for row in q_matrix]))\n",
        "#print(q_matrix)\n",
        "\n",
        "print('\\n'.join(['\\t'.join([str(cell) for cell in row]) for row in q_matrix]))\n",
        "print(\"Training done...\")"
      ],
      "execution_count": 0,
      "outputs": []
    },
    {
      "cell_type": "code",
      "metadata": {
        "id": "oEAoeIV8_i3C",
        "colab_type": "code",
        "colab": {}
      },
      "source": [
        ""
      ],
      "execution_count": 0,
      "outputs": []
    }
  ]
}